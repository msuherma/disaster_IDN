{
 "cells": [
  {
   "cell_type": "markdown",
   "metadata": {},
   "source": [
    "# Disaster Data of Indonesia\n",
    "\n",
    "These data processed here are obtained from Indonesian Government ([BNPB](https://gis.bnpb.go.id/)).\n",
    "\n",
    "These data were downloaded on 4/13/2021. Therefore, Shall I need to add more updated data, I need to retrieve the data manually starting from the date."
   ]
  },
  {
   "cell_type": "code",
   "execution_count": 7,
   "metadata": {},
   "outputs": [],
   "source": [
    "import pandas as pd"
   ]
  },
  {
   "cell_type": "code",
   "execution_count": 19,
   "metadata": {},
   "outputs": [],
   "source": [
    "read_file = pd.read_excel(r'2021/Data-Bencana-2010-2019.xlsx', engine='openpyxl', skiprows=1)"
   ]
  },
  {
   "cell_type": "code",
   "execution_count": 21,
   "metadata": {},
   "outputs": [],
   "source": [
    "read_file.to_csv (r'2021/Data-Bencana-2010-2019.csv', index = None, header=True)"
   ]
  },
  {
   "cell_type": "code",
   "execution_count": 22,
   "metadata": {},
   "outputs": [],
   "source": [
    "sourceFile = r'2021/Data-Bencana-2010-2019.xlsx'\n",
    "targetFile = r'2021/Data-Bencana-2010-2019.csv'"
   ]
  },
  {
   "cell_type": "code",
   "execution_count": 67,
   "metadata": {},
   "outputs": [],
   "source": [
    "def xlsxToCsv(sourceFile, targetFile):\n",
    "    '''\n",
    "    This function performs two stages:\n",
    "    1. read 'xlsx' format obtained from original source\n",
    "    2. convert it to csv for less memory use\n",
    "    \n",
    "    It takes two arguments (assigned prior to performing each xlsxToCsv):\n",
    "    sourceFile = '.xlsx' original file\n",
    "    targetFile = '.csv' file and where to put it\n",
    "    \n",
    "    '''\n",
    "    read_file = pd.read_excel(sourceFile, engine='openpyxl', skiprows=1)\n",
    "    return read_file.to_csv(targetFile, index = None, header=True)"
   ]
  },
  {
   "cell_type": "code",
   "execution_count": 26,
   "metadata": {},
   "outputs": [],
   "source": [
    "sourceFile = r'2021/Data-Bencana-2000-2009.xlsx'\n",
    "targetFile = r'2021/Data-Bencana-2000-2009.csv'\n",
    "xlsxToCsv(sourceFile, targetFile)"
   ]
  },
  {
   "cell_type": "code",
   "execution_count": 32,
   "metadata": {},
   "outputs": [],
   "source": [
    "db_20202021 = pd.read_csv(r'2021/Data-Bencana-2020-2021.csv')\n",
    "db_20102019 = pd.read_csv(r'2021/Data-Bencana-2010-2019.csv')\n",
    "db_20082009 = pd.read_csv(r'2021/Data-Bencana-2008-2009.csv')"
   ]
  },
  {
   "cell_type": "code",
   "execution_count": 33,
   "metadata": {},
   "outputs": [
    {
     "data": {
      "text/html": [
       "<div>\n",
       "<style scoped>\n",
       "    .dataframe tbody tr th:only-of-type {\n",
       "        vertical-align: middle;\n",
       "    }\n",
       "\n",
       "    .dataframe tbody tr th {\n",
       "        vertical-align: top;\n",
       "    }\n",
       "\n",
       "    .dataframe thead th {\n",
       "        text-align: right;\n",
       "    }\n",
       "</style>\n",
       "<table border=\"1\" class=\"dataframe\">\n",
       "  <thead>\n",
       "    <tr style=\"text-align: right;\">\n",
       "      <th></th>\n",
       "      <th>No.</th>\n",
       "      <th>ID Kabupaten</th>\n",
       "      <th>Tanggal Kejadian</th>\n",
       "      <th>Kejadian</th>\n",
       "      <th>Lokasi</th>\n",
       "      <th>Kabupaten</th>\n",
       "      <th>Provinsi</th>\n",
       "      <th>Kronologi</th>\n",
       "      <th>Penyebab</th>\n",
       "      <th>Meninggal</th>\n",
       "      <th>Hilang</th>\n",
       "      <th>Terluka</th>\n",
       "      <th>Rumah Rusak</th>\n",
       "      <th>Fasum Rusak</th>\n",
       "    </tr>\n",
       "  </thead>\n",
       "  <tbody>\n",
       "    <tr>\n",
       "      <th>2250</th>\n",
       "      <td>2251</td>\n",
       "      <td>6302</td>\n",
       "      <td>2008-01-01</td>\n",
       "      <td>BANJIR</td>\n",
       "      <td>NaN</td>\n",
       "      <td>KOTABARU</td>\n",
       "      <td>KALIMANTAN SELATAN</td>\n",
       "      <td>-</td>\n",
       "      <td>NaN</td>\n",
       "      <td>0</td>\n",
       "      <td>0</td>\n",
       "      <td>0</td>\n",
       "      <td>0</td>\n",
       "      <td>0</td>\n",
       "    </tr>\n",
       "    <tr>\n",
       "      <th>2251</th>\n",
       "      <td>2252</td>\n",
       "      <td>1111</td>\n",
       "      <td>2008-01-01</td>\n",
       "      <td>BANJIR</td>\n",
       "      <td>NaN</td>\n",
       "      <td>ACEH UTARA</td>\n",
       "      <td>ACEH</td>\n",
       "      <td>-</td>\n",
       "      <td>NaN</td>\n",
       "      <td>0</td>\n",
       "      <td>0</td>\n",
       "      <td>0</td>\n",
       "      <td>0</td>\n",
       "      <td>0</td>\n",
       "    </tr>\n",
       "    <tr>\n",
       "      <th>2252</th>\n",
       "      <td>2253</td>\n",
       "      <td>3503</td>\n",
       "      <td>2008-01-01</td>\n",
       "      <td>BANJIR</td>\n",
       "      <td>NaN</td>\n",
       "      <td>TRENGGALEK</td>\n",
       "      <td>JAWA TIMUR</td>\n",
       "      <td>-</td>\n",
       "      <td>NaN</td>\n",
       "      <td>0</td>\n",
       "      <td>0</td>\n",
       "      <td>0</td>\n",
       "      <td>0</td>\n",
       "      <td>0</td>\n",
       "    </tr>\n",
       "  </tbody>\n",
       "</table>\n",
       "</div>"
      ],
      "text/plain": [
       "       No.  ID Kabupaten Tanggal Kejadian Kejadian  Lokasi   Kabupaten  \\\n",
       "2250  2251          6302       2008-01-01   BANJIR     NaN    KOTABARU   \n",
       "2251  2252          1111       2008-01-01   BANJIR     NaN  ACEH UTARA   \n",
       "2252  2253          3503       2008-01-01   BANJIR     NaN  TRENGGALEK   \n",
       "\n",
       "                Provinsi Kronologi  Penyebab  Meninggal  Hilang  Terluka  \\\n",
       "2250  KALIMANTAN SELATAN         -       NaN          0       0        0   \n",
       "2251                ACEH         -       NaN          0       0        0   \n",
       "2252          JAWA TIMUR         -       NaN          0       0        0   \n",
       "\n",
       "      Rumah Rusak  Fasum Rusak  \n",
       "2250            0            0  \n",
       "2251            0            0  \n",
       "2252            0            0  "
      ]
     },
     "execution_count": 33,
     "metadata": {},
     "output_type": "execute_result"
    }
   ],
   "source": [
    "db_20082009.tail(3)"
   ]
  },
  {
   "cell_type": "code",
   "execution_count": 36,
   "metadata": {},
   "outputs": [
    {
     "data": {
      "text/html": [
       "<div>\n",
       "<style scoped>\n",
       "    .dataframe tbody tr th:only-of-type {\n",
       "        vertical-align: middle;\n",
       "    }\n",
       "\n",
       "    .dataframe tbody tr th {\n",
       "        vertical-align: top;\n",
       "    }\n",
       "\n",
       "    .dataframe thead th {\n",
       "        text-align: right;\n",
       "    }\n",
       "</style>\n",
       "<table border=\"1\" class=\"dataframe\">\n",
       "  <thead>\n",
       "    <tr style=\"text-align: right;\">\n",
       "      <th></th>\n",
       "      <th>No.</th>\n",
       "      <th>ID Kabupaten</th>\n",
       "      <th>Tanggal Kejadian</th>\n",
       "      <th>Kejadian</th>\n",
       "      <th>Lokasi</th>\n",
       "      <th>Kabupaten</th>\n",
       "      <th>Provinsi</th>\n",
       "      <th>Kronologi</th>\n",
       "      <th>Penyebab</th>\n",
       "      <th>Meninggal</th>\n",
       "      <th>Hilang</th>\n",
       "      <th>Terluka</th>\n",
       "      <th>Rumah Rusak</th>\n",
       "      <th>Fasum Rusak</th>\n",
       "    </tr>\n",
       "  </thead>\n",
       "  <tbody>\n",
       "    <tr>\n",
       "      <th>0</th>\n",
       "      <td>1</td>\n",
       "      <td>1705</td>\n",
       "      <td>2019-12-31</td>\n",
       "      <td>BANJIR</td>\n",
       "      <td>Kec. Seluma Barat Ds. Tanjung Agung Ds. Pagar ...</td>\n",
       "      <td>SELUMA</td>\n",
       "      <td>BENGKULU</td>\n",
       "      <td>NaN</td>\n",
       "      <td>• Akibat hujan dengan intensitas tinggi</td>\n",
       "      <td>NaN</td>\n",
       "      <td>NaN</td>\n",
       "      <td>NaN</td>\n",
       "      <td>2</td>\n",
       "      <td>5</td>\n",
       "    </tr>\n",
       "    <tr>\n",
       "      <th>1</th>\n",
       "      <td>2</td>\n",
       "      <td>6305</td>\n",
       "      <td>2019-12-31</td>\n",
       "      <td>BANJIR</td>\n",
       "      <td>Kec. Binuang Kel. Raya Belanti</td>\n",
       "      <td>TAPIN</td>\n",
       "      <td>KALIMANTAN SELATAN</td>\n",
       "      <td>NaN</td>\n",
       "      <td>• Akibat hujan dengan intensitas tinggi</td>\n",
       "      <td>NaN</td>\n",
       "      <td>NaN</td>\n",
       "      <td>NaN</td>\n",
       "      <td>0</td>\n",
       "      <td>1</td>\n",
       "    </tr>\n",
       "    <tr>\n",
       "      <th>2</th>\n",
       "      <td>3</td>\n",
       "      <td>3322</td>\n",
       "      <td>2019-12-31</td>\n",
       "      <td>PUTING BELIUNG</td>\n",
       "      <td>Kec. Pabean Ds. Segiri Dsn. Segiri</td>\n",
       "      <td>SEMARANG</td>\n",
       "      <td>JAWA TENGAH</td>\n",
       "      <td>NaN</td>\n",
       "      <td>• Akibat hujan dengan intensitas tinggi</td>\n",
       "      <td>NaN</td>\n",
       "      <td>NaN</td>\n",
       "      <td>NaN</td>\n",
       "      <td>5</td>\n",
       "      <td>0</td>\n",
       "    </tr>\n",
       "  </tbody>\n",
       "</table>\n",
       "</div>"
      ],
      "text/plain": [
       "   No.  ID Kabupaten Tanggal Kejadian        Kejadian  \\\n",
       "0    1          1705       2019-12-31          BANJIR   \n",
       "1    2          6305       2019-12-31          BANJIR   \n",
       "2    3          3322       2019-12-31  PUTING BELIUNG   \n",
       "\n",
       "                                              Lokasi Kabupaten  \\\n",
       "0  Kec. Seluma Barat Ds. Tanjung Agung Ds. Pagar ...    SELUMA   \n",
       "1                     Kec. Binuang Kel. Raya Belanti     TAPIN   \n",
       "2                 Kec. Pabean Ds. Segiri Dsn. Segiri  SEMARANG   \n",
       "\n",
       "             Provinsi Kronologi                                 Penyebab  \\\n",
       "0            BENGKULU       NaN  • Akibat hujan dengan intensitas tinggi   \n",
       "1  KALIMANTAN SELATAN       NaN  • Akibat hujan dengan intensitas tinggi   \n",
       "2         JAWA TENGAH       NaN  • Akibat hujan dengan intensitas tinggi   \n",
       "\n",
       "   Meninggal  Hilang  Terluka  Rumah Rusak  Fasum Rusak  \n",
       "0        NaN     NaN      NaN            2            5  \n",
       "1        NaN     NaN      NaN            0            1  \n",
       "2        NaN     NaN      NaN            5            0  "
      ]
     },
     "execution_count": 36,
     "metadata": {},
     "output_type": "execute_result"
    }
   ],
   "source": [
    "db_20102019.head(3)"
   ]
  },
  {
   "cell_type": "code",
   "execution_count": 37,
   "metadata": {},
   "outputs": [
    {
     "data": {
      "text/html": [
       "<div>\n",
       "<style scoped>\n",
       "    .dataframe tbody tr th:only-of-type {\n",
       "        vertical-align: middle;\n",
       "    }\n",
       "\n",
       "    .dataframe tbody tr th {\n",
       "        vertical-align: top;\n",
       "    }\n",
       "\n",
       "    .dataframe thead th {\n",
       "        text-align: right;\n",
       "    }\n",
       "</style>\n",
       "<table border=\"1\" class=\"dataframe\">\n",
       "  <thead>\n",
       "    <tr style=\"text-align: right;\">\n",
       "      <th></th>\n",
       "      <th>No.</th>\n",
       "      <th>ID Kabupaten</th>\n",
       "      <th>Tanggal Kejadian</th>\n",
       "      <th>Kejadian</th>\n",
       "      <th>Lokasi</th>\n",
       "      <th>Kabupaten</th>\n",
       "      <th>Provinsi</th>\n",
       "      <th>Kronologi</th>\n",
       "      <th>Penyebab</th>\n",
       "      <th>Meninggal</th>\n",
       "      <th>Hilang</th>\n",
       "      <th>Terluka</th>\n",
       "      <th>Rumah Rusak</th>\n",
       "      <th>Fasum Rusak</th>\n",
       "    </tr>\n",
       "  </thead>\n",
       "  <tbody>\n",
       "    <tr>\n",
       "      <th>0</th>\n",
       "      <td>1</td>\n",
       "      <td>3202</td>\n",
       "      <td>2021-04-12</td>\n",
       "      <td>PUTING BELIUNG</td>\n",
       "      <td>Kec. Cicurug Ds. Tenjoayu</td>\n",
       "      <td>SUKABUMI</td>\n",
       "      <td>JAWA BARAT</td>\n",
       "      <td>NaN</td>\n",
       "      <td>• Akibat hujan dengan intensitas tinggi disert...</td>\n",
       "      <td>0</td>\n",
       "      <td>0</td>\n",
       "      <td>0</td>\n",
       "      <td>6</td>\n",
       "      <td>0</td>\n",
       "    </tr>\n",
       "    <tr>\n",
       "      <th>1</th>\n",
       "      <td>2</td>\n",
       "      <td>3201</td>\n",
       "      <td>2021-04-11</td>\n",
       "      <td>PUTING BELIUNG</td>\n",
       "      <td>Kec. Pamijahan Ds. Ciasihan</td>\n",
       "      <td>BOGOR</td>\n",
       "      <td>JAWA BARAT</td>\n",
       "      <td>NaN</td>\n",
       "      <td>• Akibat hujan dengan intensitas tinggi disert...</td>\n",
       "      <td>0</td>\n",
       "      <td>0</td>\n",
       "      <td>0</td>\n",
       "      <td>2</td>\n",
       "      <td>0</td>\n",
       "    </tr>\n",
       "    <tr>\n",
       "      <th>2</th>\n",
       "      <td>3</td>\n",
       "      <td>3201</td>\n",
       "      <td>2021-04-11</td>\n",
       "      <td>PUTING BELIUNG</td>\n",
       "      <td>Kec. Tamansari Ds. Sukajaya</td>\n",
       "      <td>BOGOR</td>\n",
       "      <td>JAWA BARAT</td>\n",
       "      <td>NaN</td>\n",
       "      <td>• Akibat hujan dengan intensitas yang sedang d...</td>\n",
       "      <td>0</td>\n",
       "      <td>0</td>\n",
       "      <td>0</td>\n",
       "      <td>0</td>\n",
       "      <td>1</td>\n",
       "    </tr>\n",
       "  </tbody>\n",
       "</table>\n",
       "</div>"
      ],
      "text/plain": [
       "   No.  ID Kabupaten Tanggal Kejadian        Kejadian  \\\n",
       "0    1          3202       2021-04-12  PUTING BELIUNG   \n",
       "1    2          3201       2021-04-11  PUTING BELIUNG   \n",
       "2    3          3201       2021-04-11  PUTING BELIUNG   \n",
       "\n",
       "                        Lokasi Kabupaten    Provinsi Kronologi  \\\n",
       "0    Kec. Cicurug Ds. Tenjoayu  SUKABUMI  JAWA BARAT       NaN   \n",
       "1  Kec. Pamijahan Ds. Ciasihan     BOGOR  JAWA BARAT       NaN   \n",
       "2  Kec. Tamansari Ds. Sukajaya     BOGOR  JAWA BARAT       NaN   \n",
       "\n",
       "                                            Penyebab  Meninggal  Hilang  \\\n",
       "0  • Akibat hujan dengan intensitas tinggi disert...          0       0   \n",
       "1  • Akibat hujan dengan intensitas tinggi disert...          0       0   \n",
       "2  • Akibat hujan dengan intensitas yang sedang d...          0       0   \n",
       "\n",
       "   Terluka  Rumah Rusak  Fasum Rusak  \n",
       "0        0            6            0  \n",
       "1        0            2            0  \n",
       "2        0            0            1  "
      ]
     },
     "execution_count": 37,
     "metadata": {},
     "output_type": "execute_result"
    }
   ],
   "source": [
    "db_20202021.head(3)"
   ]
  },
  {
   "cell_type": "markdown",
   "metadata": {},
   "source": [
    "## Concatinating all the data"
   ]
  },
  {
   "cell_type": "code",
   "execution_count": 49,
   "metadata": {},
   "outputs": [],
   "source": [
    "frames = [db_20202021, db_20102019, db_20082009]\n",
    "data_bencana_full = pd.concat(frames)\n",
    "data_bencana_full= data_bencana_full.drop(columns=['No']) # dropping column 'No', unused.\n",
    "data_bencana_full.to_csv(r'2021/Data-Bencana-full.csv')   # save to csv"
   ]
  },
  {
   "cell_type": "code",
   "execution_count": 61,
   "metadata": {},
   "outputs": [
    {
     "data": {
      "text/plain": [
       "(29975, 13)"
      ]
     },
     "execution_count": 61,
     "metadata": {},
     "output_type": "execute_result"
    }
   ],
   "source": [
    "data_bencana_full.shape # checking the shape"
   ]
  },
  {
   "cell_type": "markdown",
   "metadata": {},
   "source": [
    "## Removing all potential duplicated rows\n",
    "\n",
    "When downloading the data from the website, there is a slight possibility that I used the same date more than one. Since the potential of duplicated file exists, identifying and removing the duplicated files is necessary."
   ]
  },
  {
   "cell_type": "code",
   "execution_count": 58,
   "metadata": {},
   "outputs": [],
   "source": [
    "\n",
    "duplicateRows = data_bencana_full[data_bencana_full.duplicated()]"
   ]
  },
  {
   "cell_type": "code",
   "execution_count": 60,
   "metadata": {},
   "outputs": [
    {
     "data": {
      "text/plain": [
       "(125, 13)"
      ]
     },
     "execution_count": 60,
     "metadata": {},
     "output_type": "execute_result"
    }
   ],
   "source": [
    "duplicateRows.shape"
   ]
  },
  {
   "cell_type": "code",
   "execution_count": 62,
   "metadata": {},
   "outputs": [],
   "source": [
    "db_cleaned = data_bencana_full.drop_duplicates()"
   ]
  },
  {
   "cell_type": "code",
   "execution_count": 64,
   "metadata": {},
   "outputs": [
    {
     "data": {
      "text/plain": [
       "(29850, 13)"
      ]
     },
     "execution_count": 64,
     "metadata": {},
     "output_type": "execute_result"
    }
   ],
   "source": [
    "db_cleaned.shape"
   ]
  },
  {
   "cell_type": "markdown",
   "metadata": {},
   "source": [
    "## Checking the values consistencies in the dataframe\n",
    "\n",
    "Since the input of the data is written by possibly more than one person, there is a possibility of inconsistencies in writing the data, such as the way to write Provinces' name."
   ]
  },
  {
   "cell_type": "code",
   "execution_count": 77,
   "metadata": {},
   "outputs": [
    {
     "data": {
      "text/plain": [
       "35"
      ]
     },
     "execution_count": 77,
     "metadata": {},
     "output_type": "execute_result"
    }
   ],
   "source": [
    "nProvince = len(pd.unique(db_cleaned['Provinsi'])) # checking the number of provinces;\n",
    "nProvince # It turns out that the number of province listed here is 36, where is the actual maximum is 34, therefore spotting the duplicated province name is in need."
   ]
  },
  {
   "cell_type": "code",
   "execution_count": 74,
   "metadata": {},
   "outputs": [
    {
     "data": {
      "text/plain": [
       "36"
      ]
     },
     "execution_count": 74,
     "metadata": {},
     "output_type": "execute_result"
    }
   ],
   "source": []
  },
  {
   "cell_type": "code",
   "execution_count": 71,
   "metadata": {},
   "outputs": [],
   "source": [
    "listProvince = pd.unique(db_cleaned['Provinsi'])\n",
    "listProvince"
   ]
  },
  {
   "cell_type": "code",
   "execution_count": 72,
   "metadata": {},
   "outputs": [
    {
     "data": {
      "text/plain": [
       "array(['JAWA BARAT', 'JAWA TIMUR', 'LAMPUNG', 'JAWA TENGAH',\n",
       "       'SUMATERA SELATAN', 'KALIMANTAN TIMUR', 'KALIMANTAN TENGAH',\n",
       "       'JAMBI', 'SUMATERA BARAT', 'ACEH', 'MALUKU', 'SULAWESI BARAT',\n",
       "       'SUMATERA UTARA', 'NUSA TENGGARA TIMUR', 'BANTEN', 'RIAU',\n",
       "       'DI YOGYAKARTA', 'KEPULAUAN BANGKA BELITUNG', 'SULAWESI SELATAN',\n",
       "       'NUSA TENGGARA BARAT', 'PAPUA', 'KALIMANTAN SELATAN',\n",
       "       'KALIMANTAN BARAT', 'SULAWESI UTARA', 'MALUKU UTARA',\n",
       "       'SULAWESI TENGAH', 'KALIMANTAN UTARA', 'GORONTALO', 'BALI',\n",
       "       'BENGKULU', 'DKI JAKARTA', 'JAWA Tengah', 'PAPUA BARAT',\n",
       "       'DKI Jakarta', 'SULAWESI TENGGARA', 'KEPULAUAN RIAU'], dtype=object)"
      ]
     },
     "execution_count": 72,
     "metadata": {},
     "output_type": "execute_result"
    }
   ],
   "source": []
  },
  {
   "cell_type": "markdown",
   "metadata": {},
   "source": [
    "From the result of `listProvince`, I found that 'JAWA Tengah' and 'DKI Jakarta' have double name, therefore I need to replace the string."
   ]
  },
  {
   "cell_type": "code",
   "execution_count": 75,
   "metadata": {},
   "outputs": [],
   "source": [
    "def replaceValue (dfName, columnName, originalValue, targetValue):\n",
    "    '''\n",
    "    This function is to easily replace the value in certain column of dataframe\n",
    "    It takes 4 arguments:\n",
    "    dfName = the dataFrame Name\n",
    "    columnName = column name to target\n",
    "    OriginalValue = can be String, integer etc\n",
    "    targetValue = value to replace\n",
    "    '''\n",
    "    return dfName[columnName].replace(originalValue,targetValue,inplace=True)"
   ]
  },
  {
   "cell_type": "code",
   "execution_count": 76,
   "metadata": {},
   "outputs": [
    {
     "name": "stderr",
     "output_type": "stream",
     "text": [
      "/Users/cakherman/opt/anaconda3/envs/phd/lib/python3.8/site-packages/pandas/core/series.py:4563: SettingWithCopyWarning: \n",
      "A value is trying to be set on a copy of a slice from a DataFrame\n",
      "\n",
      "See the caveats in the documentation: https://pandas.pydata.org/pandas-docs/stable/user_guide/indexing.html#returning-a-view-versus-a-copy\n",
      "  return super().replace(\n"
     ]
    }
   ],
   "source": [
    "replaceValue(db_cleaned, 'Provinsi', 'JAWA Tengah', 'JAWA TENGAH')"
   ]
  },
  {
   "cell_type": "code",
   "execution_count": 79,
   "metadata": {},
   "outputs": [
    {
     "name": "stderr",
     "output_type": "stream",
     "text": [
      "/Users/cakherman/opt/anaconda3/envs/phd/lib/python3.8/site-packages/pandas/core/series.py:4563: SettingWithCopyWarning: \n",
      "A value is trying to be set on a copy of a slice from a DataFrame\n",
      "\n",
      "See the caveats in the documentation: https://pandas.pydata.org/pandas-docs/stable/user_guide/indexing.html#returning-a-view-versus-a-copy\n",
      "  return super().replace(\n"
     ]
    }
   ],
   "source": [
    "replaceValue(db_cleaned, 'Provinsi', 'DKI Jakarta', 'DKI JAKARTA')"
   ]
  },
  {
   "cell_type": "code",
   "execution_count": 80,
   "metadata": {},
   "outputs": [
    {
     "data": {
      "text/plain": [
       "34"
      ]
     },
     "execution_count": 80,
     "metadata": {},
     "output_type": "execute_result"
    }
   ],
   "source": [
    "nProvince = len(pd.unique(db_cleaned['Provinsi'])) # checking the number of provinces;\n",
    "nProvince # It turns out that the number of province listed here is 36, where is the actual maximum is 34, therefore spotting the duplicated province name is in need."
   ]
  },
  {
   "cell_type": "code",
   "execution_count": 81,
   "metadata": {},
   "outputs": [
    {
     "data": {
      "text/plain": [
       "array(['JAWA BARAT', 'JAWA TIMUR', 'LAMPUNG', 'JAWA TENGAH',\n",
       "       'SUMATERA SELATAN', 'KALIMANTAN TIMUR', 'KALIMANTAN TENGAH',\n",
       "       'JAMBI', 'SUMATERA BARAT', 'ACEH', 'MALUKU', 'SULAWESI BARAT',\n",
       "       'SUMATERA UTARA', 'NUSA TENGGARA TIMUR', 'BANTEN', 'RIAU',\n",
       "       'DI YOGYAKARTA', 'KEPULAUAN BANGKA BELITUNG', 'SULAWESI SELATAN',\n",
       "       'NUSA TENGGARA BARAT', 'PAPUA', 'KALIMANTAN SELATAN',\n",
       "       'KALIMANTAN BARAT', 'SULAWESI UTARA', 'MALUKU UTARA',\n",
       "       'SULAWESI TENGAH', 'KALIMANTAN UTARA', 'GORONTALO', 'BALI',\n",
       "       'BENGKULU', 'DKI JAKARTA', 'PAPUA BARAT', 'SULAWESI TENGGARA',\n",
       "       'KEPULAUAN RIAU'], dtype=object)"
      ]
     },
     "execution_count": 81,
     "metadata": {},
     "output_type": "execute_result"
    }
   ],
   "source": [
    "listProvince = pd.unique(db_cleaned['Provinsi'])\n",
    "listProvince"
   ]
  },
  {
   "cell_type": "code",
   "execution_count": 83,
   "metadata": {},
   "outputs": [
    {
     "data": {
      "text/html": [
       "<div>\n",
       "<style scoped>\n",
       "    .dataframe tbody tr th:only-of-type {\n",
       "        vertical-align: middle;\n",
       "    }\n",
       "\n",
       "    .dataframe tbody tr th {\n",
       "        vertical-align: top;\n",
       "    }\n",
       "\n",
       "    .dataframe thead th {\n",
       "        text-align: right;\n",
       "    }\n",
       "</style>\n",
       "<table border=\"1\" class=\"dataframe\">\n",
       "  <thead>\n",
       "    <tr style=\"text-align: right;\">\n",
       "      <th></th>\n",
       "      <th>ID Kabupaten</th>\n",
       "      <th>Tanggal Kejadian</th>\n",
       "      <th>Kejadian</th>\n",
       "      <th>Lokasi</th>\n",
       "      <th>Kabupaten</th>\n",
       "      <th>Provinsi</th>\n",
       "      <th>Kronologi</th>\n",
       "      <th>Penyebab</th>\n",
       "      <th>Meninggal</th>\n",
       "      <th>Hilang</th>\n",
       "      <th>Terluka</th>\n",
       "      <th>Rumah Rusak</th>\n",
       "      <th>Fasum Rusak</th>\n",
       "    </tr>\n",
       "  </thead>\n",
       "  <tbody>\n",
       "    <tr>\n",
       "      <th>0</th>\n",
       "      <td>3202</td>\n",
       "      <td>2021-04-12</td>\n",
       "      <td>PUTING BELIUNG</td>\n",
       "      <td>Kec. Cicurug Ds. Tenjoayu</td>\n",
       "      <td>SUKABUMI</td>\n",
       "      <td>JAWA BARAT</td>\n",
       "      <td>NaN</td>\n",
       "      <td>• Akibat hujan dengan intensitas tinggi disert...</td>\n",
       "      <td>0.0</td>\n",
       "      <td>0.0</td>\n",
       "      <td>0.0</td>\n",
       "      <td>6</td>\n",
       "      <td>0</td>\n",
       "    </tr>\n",
       "    <tr>\n",
       "      <th>1</th>\n",
       "      <td>3201</td>\n",
       "      <td>2021-04-11</td>\n",
       "      <td>PUTING BELIUNG</td>\n",
       "      <td>Kec. Pamijahan Ds. Ciasihan</td>\n",
       "      <td>BOGOR</td>\n",
       "      <td>JAWA BARAT</td>\n",
       "      <td>NaN</td>\n",
       "      <td>• Akibat hujan dengan intensitas tinggi disert...</td>\n",
       "      <td>0.0</td>\n",
       "      <td>0.0</td>\n",
       "      <td>0.0</td>\n",
       "      <td>2</td>\n",
       "      <td>0</td>\n",
       "    </tr>\n",
       "    <tr>\n",
       "      <th>2</th>\n",
       "      <td>3201</td>\n",
       "      <td>2021-04-11</td>\n",
       "      <td>PUTING BELIUNG</td>\n",
       "      <td>Kec. Tamansari Ds. Sukajaya</td>\n",
       "      <td>BOGOR</td>\n",
       "      <td>JAWA BARAT</td>\n",
       "      <td>NaN</td>\n",
       "      <td>• Akibat hujan dengan intensitas yang sedang d...</td>\n",
       "      <td>0.0</td>\n",
       "      <td>0.0</td>\n",
       "      <td>0.0</td>\n",
       "      <td>0</td>\n",
       "      <td>1</td>\n",
       "    </tr>\n",
       "  </tbody>\n",
       "</table>\n",
       "</div>"
      ],
      "text/plain": [
       "   ID Kabupaten Tanggal Kejadian        Kejadian                       Lokasi  \\\n",
       "0          3202       2021-04-12  PUTING BELIUNG    Kec. Cicurug Ds. Tenjoayu   \n",
       "1          3201       2021-04-11  PUTING BELIUNG  Kec. Pamijahan Ds. Ciasihan   \n",
       "2          3201       2021-04-11  PUTING BELIUNG  Kec. Tamansari Ds. Sukajaya   \n",
       "\n",
       "  Kabupaten    Provinsi Kronologi  \\\n",
       "0  SUKABUMI  JAWA BARAT       NaN   \n",
       "1     BOGOR  JAWA BARAT       NaN   \n",
       "2     BOGOR  JAWA BARAT       NaN   \n",
       "\n",
       "                                            Penyebab  Meninggal  Hilang  \\\n",
       "0  • Akibat hujan dengan intensitas tinggi disert...        0.0     0.0   \n",
       "1  • Akibat hujan dengan intensitas tinggi disert...        0.0     0.0   \n",
       "2  • Akibat hujan dengan intensitas yang sedang d...        0.0     0.0   \n",
       "\n",
       "   Terluka  Rumah Rusak  Fasum Rusak  \n",
       "0      0.0            6            0  \n",
       "1      0.0            2            0  \n",
       "2      0.0            0            1  "
      ]
     },
     "execution_count": 83,
     "metadata": {},
     "output_type": "execute_result"
    }
   ],
   "source": [
    "db_cleaned.head(3)"
   ]
  },
  {
   "cell_type": "code",
   "execution_count": 84,
   "metadata": {},
   "outputs": [
    {
     "data": {
      "text/plain": [
       "array(['PUTING BELIUNG', 'TANAH LONGSOR', 'BANJIR', 'GEMPA BUMI',\n",
       "       'GELOMBANG PASANG / ABRASI', 'KEBAKARAN HUTAN DAN LAHAN',\n",
       "       'KEKERINGAN', 'GERAKAN TANAH', 'PERGERAKAN TANAH',\n",
       "       'LETUSAN GUNUNG API', 'PENINGKATAN STATUS GUNUNG MERAPI',\n",
       "       'TSUNAMI', 'GEMPA BUMI DAN TSUNAMI'], dtype=object)"
      ]
     },
     "execution_count": 84,
     "metadata": {},
     "output_type": "execute_result"
    }
   ],
   "source": [
    "pd.unique(db_cleaned['Kejadian'])"
   ]
  },
  {
   "cell_type": "code",
   "execution_count": 118,
   "metadata": {},
   "outputs": [],
   "source": [
    "db_cleaned_ENG = db_cleaned"
   ]
  },
  {
   "cell_type": "code",
   "execution_count": 119,
   "metadata": {},
   "outputs": [
    {
     "name": "stderr",
     "output_type": "stream",
     "text": [
      "/Users/cakherman/opt/anaconda3/envs/phd/lib/python3.8/site-packages/pandas/core/series.py:4563: SettingWithCopyWarning: \n",
      "A value is trying to be set on a copy of a slice from a DataFrame\n",
      "\n",
      "See the caveats in the documentation: https://pandas.pydata.org/pandas-docs/stable/user_guide/indexing.html#returning-a-view-versus-a-copy\n",
      "  return super().replace(\n"
     ]
    }
   ],
   "source": [
    "replaceValue(db_cleaned_ENG, 'Kejadian', 'PUTING BELIUNG', 'cyclone')\n",
    "replaceValue(db_cleaned_ENG, 'Kejadian', 'TANAH LONGSOR', 'landslide')\n",
    "replaceValue(db_cleaned_ENG, 'Kejadian',  'BANJIR', 'flood')\n",
    "replaceValue(db_cleaned_ENG, 'Kejadian', 'GEMPA BUMI', 'earthquake')\n",
    "replaceValue(db_cleaned_ENG, 'Kejadian', 'GELOMBANG PASANG / ABRASI', 'high-tide/abrasion')\n",
    "replaceValue(db_cleaned_ENG, 'Kejadian', 'KEBAKARAN HUTAN DAN LAHAN', 'forest and land fire')\n",
    "replaceValue(db_cleaned_ENG, 'Kejadian', 'KEKERINGAN', 'drought')\n",
    "replaceValue(db_cleaned_ENG, 'Kejadian', 'GERAKAN TANAH', 'ground movement')\n",
    "replaceValue(db_cleaned_ENG, 'Kejadian', 'PERGERAKAN TANAH', 'ground movement')\n",
    "replaceValue(db_cleaned_ENG, 'Kejadian', 'LETUSAN GUNUNG API', 'volcanic eruption')\n",
    "replaceValue(db_cleaned_ENG, 'Kejadian', 'PENINGKATAN STATUS GUNUNG MERAPI', 'volcanic activities')\n",
    "replaceValue(db_cleaned_ENG, 'Kejadian', 'TSUNAMI', 'tsunami')\n",
    "replaceValue(db_cleaned_ENG, 'Kejadian', 'GEMPA BUMI DAN TSUNAMI', 'earthquake+tsunami')\n",
    "             "
   ]
  },
  {
   "cell_type": "code",
   "execution_count": 123,
   "metadata": {},
   "outputs": [
    {
     "data": {
      "text/html": [
       "<div>\n",
       "<style scoped>\n",
       "    .dataframe tbody tr th:only-of-type {\n",
       "        vertical-align: middle;\n",
       "    }\n",
       "\n",
       "    .dataframe tbody tr th {\n",
       "        vertical-align: top;\n",
       "    }\n",
       "\n",
       "    .dataframe thead th {\n",
       "        text-align: right;\n",
       "    }\n",
       "</style>\n",
       "<table border=\"1\" class=\"dataframe\">\n",
       "  <thead>\n",
       "    <tr style=\"text-align: right;\">\n",
       "      <th></th>\n",
       "      <th>ID Kabupaten</th>\n",
       "      <th>Tanggal Kejadian</th>\n",
       "      <th>Kejadian</th>\n",
       "      <th>Lokasi</th>\n",
       "      <th>Kabupaten</th>\n",
       "      <th>Provinsi</th>\n",
       "      <th>Meninggal</th>\n",
       "      <th>Hilang</th>\n",
       "      <th>Terluka</th>\n",
       "      <th>Rumah Rusak</th>\n",
       "      <th>Fasum Rusak</th>\n",
       "    </tr>\n",
       "  </thead>\n",
       "  <tbody>\n",
       "    <tr>\n",
       "      <th>0</th>\n",
       "      <td>3202</td>\n",
       "      <td>2021-04-12</td>\n",
       "      <td>cyclone</td>\n",
       "      <td>Kec. Cicurug Ds. Tenjoayu</td>\n",
       "      <td>SUKABUMI</td>\n",
       "      <td>JAWA BARAT</td>\n",
       "      <td>0.0</td>\n",
       "      <td>0.0</td>\n",
       "      <td>0.0</td>\n",
       "      <td>6</td>\n",
       "      <td>0</td>\n",
       "    </tr>\n",
       "    <tr>\n",
       "      <th>1</th>\n",
       "      <td>3201</td>\n",
       "      <td>2021-04-11</td>\n",
       "      <td>cyclone</td>\n",
       "      <td>Kec. Pamijahan Ds. Ciasihan</td>\n",
       "      <td>BOGOR</td>\n",
       "      <td>JAWA BARAT</td>\n",
       "      <td>0.0</td>\n",
       "      <td>0.0</td>\n",
       "      <td>0.0</td>\n",
       "      <td>2</td>\n",
       "      <td>0</td>\n",
       "    </tr>\n",
       "    <tr>\n",
       "      <th>2</th>\n",
       "      <td>3201</td>\n",
       "      <td>2021-04-11</td>\n",
       "      <td>cyclone</td>\n",
       "      <td>Kec. Tamansari Ds. Sukajaya</td>\n",
       "      <td>BOGOR</td>\n",
       "      <td>JAWA BARAT</td>\n",
       "      <td>0.0</td>\n",
       "      <td>0.0</td>\n",
       "      <td>0.0</td>\n",
       "      <td>0</td>\n",
       "      <td>1</td>\n",
       "    </tr>\n",
       "    <tr>\n",
       "      <th>3</th>\n",
       "      <td>3211</td>\n",
       "      <td>2021-04-11</td>\n",
       "      <td>landslide</td>\n",
       "      <td>Kec. Wado Ds. Cimungkal</td>\n",
       "      <td>SUMEDANG</td>\n",
       "      <td>JAWA BARAT</td>\n",
       "      <td>0.0</td>\n",
       "      <td>0.0</td>\n",
       "      <td>0.0</td>\n",
       "      <td>0</td>\n",
       "      <td>0</td>\n",
       "    </tr>\n",
       "    <tr>\n",
       "      <th>4</th>\n",
       "      <td>3201</td>\n",
       "      <td>2021-04-11</td>\n",
       "      <td>cyclone</td>\n",
       "      <td>Kec. Ciomas Ds. Mekar Jaya</td>\n",
       "      <td>BOGOR</td>\n",
       "      <td>JAWA BARAT</td>\n",
       "      <td>0.0</td>\n",
       "      <td>0.0</td>\n",
       "      <td>0.0</td>\n",
       "      <td>2</td>\n",
       "      <td>0</td>\n",
       "    </tr>\n",
       "  </tbody>\n",
       "</table>\n",
       "</div>"
      ],
      "text/plain": [
       "   ID Kabupaten Tanggal Kejadian   Kejadian                       Lokasi  \\\n",
       "0          3202       2021-04-12    cyclone    Kec. Cicurug Ds. Tenjoayu   \n",
       "1          3201       2021-04-11    cyclone  Kec. Pamijahan Ds. Ciasihan   \n",
       "2          3201       2021-04-11    cyclone  Kec. Tamansari Ds. Sukajaya   \n",
       "3          3211       2021-04-11  landslide      Kec. Wado Ds. Cimungkal   \n",
       "4          3201       2021-04-11    cyclone   Kec. Ciomas Ds. Mekar Jaya   \n",
       "\n",
       "  Kabupaten    Provinsi  Meninggal  Hilang  Terluka  Rumah Rusak  Fasum Rusak  \n",
       "0  SUKABUMI  JAWA BARAT        0.0     0.0      0.0            6            0  \n",
       "1     BOGOR  JAWA BARAT        0.0     0.0      0.0            2            0  \n",
       "2     BOGOR  JAWA BARAT        0.0     0.0      0.0            0            1  \n",
       "3  SUMEDANG  JAWA BARAT        0.0     0.0      0.0            0            0  \n",
       "4     BOGOR  JAWA BARAT        0.0     0.0      0.0            2            0  "
      ]
     },
     "execution_count": 123,
     "metadata": {},
     "output_type": "execute_result"
    }
   ],
   "source": [
    "#db_cleaned_ENG= db_cleaned_ENG.drop(columns=['Kronologi'])\n",
    "db_cleaned_ENG= db_cleaned_ENG.drop(columns=['Penyebab']) #dropping | cause \\ column because most likely unused\n",
    "db_cleaned_ENG.head(5)"
   ]
  },
  {
   "cell_type": "code",
   "execution_count": 124,
   "metadata": {},
   "outputs": [],
   "source": [
    "db_cleaned_ENG = db_cleaned_ENG.rename({\"ID Kabupaten\":\"district_ID\", \"Tanggal Kejadian\":\"date\",\"Kejadian\":\"disaster_type\",\"Lokasi\":\"location\",\"Kabupaten\":\"district_name\",\"Provinsi\":\"province\",\"Penyebab\":\"cause\",\"Meninggal\":\"dead\",\"Hilang\":\"missing\", \"Terluka\":\"injured\", \"Rumah Rusak\":\"house_damage\", \"Fasum Rusak\":\"public_facility_damage\"}, axis = 'columns')"
   ]
  },
  {
   "cell_type": "code",
   "execution_count": 125,
   "metadata": {},
   "outputs": [
    {
     "data": {
      "text/html": [
       "<div>\n",
       "<style scoped>\n",
       "    .dataframe tbody tr th:only-of-type {\n",
       "        vertical-align: middle;\n",
       "    }\n",
       "\n",
       "    .dataframe tbody tr th {\n",
       "        vertical-align: top;\n",
       "    }\n",
       "\n",
       "    .dataframe thead th {\n",
       "        text-align: right;\n",
       "    }\n",
       "</style>\n",
       "<table border=\"1\" class=\"dataframe\">\n",
       "  <thead>\n",
       "    <tr style=\"text-align: right;\">\n",
       "      <th></th>\n",
       "      <th>district_ID</th>\n",
       "      <th>date</th>\n",
       "      <th>disaster_type</th>\n",
       "      <th>location</th>\n",
       "      <th>district_name</th>\n",
       "      <th>province</th>\n",
       "      <th>dead</th>\n",
       "      <th>missing</th>\n",
       "      <th>injured</th>\n",
       "      <th>house_damage</th>\n",
       "      <th>public_facility_damage</th>\n",
       "    </tr>\n",
       "  </thead>\n",
       "  <tbody>\n",
       "    <tr>\n",
       "      <th>0</th>\n",
       "      <td>3202</td>\n",
       "      <td>2021-04-12</td>\n",
       "      <td>cyclone</td>\n",
       "      <td>Kec. Cicurug Ds. Tenjoayu</td>\n",
       "      <td>SUKABUMI</td>\n",
       "      <td>JAWA BARAT</td>\n",
       "      <td>0.0</td>\n",
       "      <td>0.0</td>\n",
       "      <td>0.0</td>\n",
       "      <td>6</td>\n",
       "      <td>0</td>\n",
       "    </tr>\n",
       "    <tr>\n",
       "      <th>1</th>\n",
       "      <td>3201</td>\n",
       "      <td>2021-04-11</td>\n",
       "      <td>cyclone</td>\n",
       "      <td>Kec. Pamijahan Ds. Ciasihan</td>\n",
       "      <td>BOGOR</td>\n",
       "      <td>JAWA BARAT</td>\n",
       "      <td>0.0</td>\n",
       "      <td>0.0</td>\n",
       "      <td>0.0</td>\n",
       "      <td>2</td>\n",
       "      <td>0</td>\n",
       "    </tr>\n",
       "    <tr>\n",
       "      <th>2</th>\n",
       "      <td>3201</td>\n",
       "      <td>2021-04-11</td>\n",
       "      <td>cyclone</td>\n",
       "      <td>Kec. Tamansari Ds. Sukajaya</td>\n",
       "      <td>BOGOR</td>\n",
       "      <td>JAWA BARAT</td>\n",
       "      <td>0.0</td>\n",
       "      <td>0.0</td>\n",
       "      <td>0.0</td>\n",
       "      <td>0</td>\n",
       "      <td>1</td>\n",
       "    </tr>\n",
       "    <tr>\n",
       "      <th>3</th>\n",
       "      <td>3211</td>\n",
       "      <td>2021-04-11</td>\n",
       "      <td>landslide</td>\n",
       "      <td>Kec. Wado Ds. Cimungkal</td>\n",
       "      <td>SUMEDANG</td>\n",
       "      <td>JAWA BARAT</td>\n",
       "      <td>0.0</td>\n",
       "      <td>0.0</td>\n",
       "      <td>0.0</td>\n",
       "      <td>0</td>\n",
       "      <td>0</td>\n",
       "    </tr>\n",
       "    <tr>\n",
       "      <th>4</th>\n",
       "      <td>3201</td>\n",
       "      <td>2021-04-11</td>\n",
       "      <td>cyclone</td>\n",
       "      <td>Kec. Ciomas Ds. Mekar Jaya</td>\n",
       "      <td>BOGOR</td>\n",
       "      <td>JAWA BARAT</td>\n",
       "      <td>0.0</td>\n",
       "      <td>0.0</td>\n",
       "      <td>0.0</td>\n",
       "      <td>2</td>\n",
       "      <td>0</td>\n",
       "    </tr>\n",
       "  </tbody>\n",
       "</table>\n",
       "</div>"
      ],
      "text/plain": [
       "   district_ID        date disaster_type                     location  \\\n",
       "0         3202  2021-04-12       cyclone    Kec. Cicurug Ds. Tenjoayu   \n",
       "1         3201  2021-04-11       cyclone  Kec. Pamijahan Ds. Ciasihan   \n",
       "2         3201  2021-04-11       cyclone  Kec. Tamansari Ds. Sukajaya   \n",
       "3         3211  2021-04-11     landslide      Kec. Wado Ds. Cimungkal   \n",
       "4         3201  2021-04-11       cyclone   Kec. Ciomas Ds. Mekar Jaya   \n",
       "\n",
       "  district_name    province  dead  missing  injured  house_damage  \\\n",
       "0      SUKABUMI  JAWA BARAT   0.0      0.0      0.0             6   \n",
       "1         BOGOR  JAWA BARAT   0.0      0.0      0.0             2   \n",
       "2         BOGOR  JAWA BARAT   0.0      0.0      0.0             0   \n",
       "3      SUMEDANG  JAWA BARAT   0.0      0.0      0.0             0   \n",
       "4         BOGOR  JAWA BARAT   0.0      0.0      0.0             2   \n",
       "\n",
       "   public_facility_damage  \n",
       "0                       0  \n",
       "1                       0  \n",
       "2                       1  \n",
       "3                       0  \n",
       "4                       0  "
      ]
     },
     "execution_count": 125,
     "metadata": {},
     "output_type": "execute_result"
    }
   ],
   "source": [
    "db_cleaned_ENG.head(5)"
   ]
  },
  {
   "cell_type": "code",
   "execution_count": 126,
   "metadata": {},
   "outputs": [
    {
     "data": {
      "text/plain": [
       "array(['JAWA BARAT', 'JAWA TIMUR', 'LAMPUNG', 'JAWA TENGAH',\n",
       "       'SUMATERA SELATAN', 'KALIMANTAN TIMUR', 'KALIMANTAN TENGAH',\n",
       "       'JAMBI', 'SUMATERA BARAT', 'ACEH', 'MALUKU', 'SULAWESI BARAT',\n",
       "       'SUMATERA UTARA', 'NUSA TENGGARA TIMUR', 'BANTEN', 'RIAU',\n",
       "       'DI YOGYAKARTA', 'KEPULAUAN BANGKA BELITUNG', 'SULAWESI SELATAN',\n",
       "       'NUSA TENGGARA BARAT', 'PAPUA', 'KALIMANTAN SELATAN',\n",
       "       'KALIMANTAN BARAT', 'SULAWESI UTARA', 'MALUKU UTARA',\n",
       "       'SULAWESI TENGAH', 'KALIMANTAN UTARA', 'GORONTALO', 'BALI',\n",
       "       'BENGKULU', 'DKI JAKARTA', 'PAPUA BARAT', 'SULAWESI TENGGARA',\n",
       "       'KEPULAUAN RIAU'], dtype=object)"
      ]
     },
     "execution_count": 126,
     "metadata": {},
     "output_type": "execute_result"
    }
   ],
   "source": [
    "listProvince = pd.unique(db_cleaned_ENG['province'])\n",
    "listProvince"
   ]
  },
  {
   "cell_type": "code",
   "execution_count": 127,
   "metadata": {},
   "outputs": [],
   "source": [
    "replaceValue(db_cleaned_ENG, 'province', 'JAWA BARAT', 'west_java')\n",
    "replaceValue(db_cleaned_ENG, 'province', 'JAWA TENGAH', 'central_java')\n",
    "replaceValue(db_cleaned_ENG, 'province', 'JAWA TIMUR', 'eastj_ava')\n",
    "replaceValue(db_cleaned_ENG, 'province', 'SUMATERA SELATAN', 'south_sumatera')\n",
    "replaceValue(db_cleaned_ENG, 'province', 'SUMATERA BARAT', 'west_sumatera')\n",
    "replaceValue(db_cleaned_ENG, 'province', 'SUMATERA UTARA', 'north_sumatera')\n",
    "replaceValue(db_cleaned_ENG, 'province', 'KALIMANTAN BARAT', 'west_kalimantan')\n",
    "replaceValue(db_cleaned_ENG, 'province', 'KALIMANTAN TENGAH', 'central_kalimantan')\n",
    "replaceValue(db_cleaned_ENG, 'province', 'KALIMANTAN TIMUR', 'north_kalimantan')\n",
    "replaceValue(db_cleaned_ENG, 'province', 'KALIMANTAN SELATAN', 'south_kalimantan')\n",
    "replaceValue(db_cleaned_ENG, 'province', 'SULAWESI SELATAN', 'south_sulawesi')\n",
    "replaceValue(db_cleaned_ENG, 'province', 'SULAWESI TENGGARA', 'southeast_sulawesi')\n",
    "replaceValue(db_cleaned_ENG, 'province', 'SULAWESI TENGAH', 'central_sulawesi')\n",
    "replaceValue(db_cleaned_ENG, 'province', 'SULAWESI BARAT', 'west_sulawesi')\n",
    "replaceValue(db_cleaned_ENG, 'province', 'SULAWESI UTARA', 'north_sulawesi')\n",
    "replaceValue(db_cleaned_ENG, 'province', 'NUSA TENGGARA BARAT', 'west_nusa_tenggara')\n",
    "replaceValue(db_cleaned_ENG, 'province', 'NUSA TENGGARA TIMUR', 'east_nusa_tenggara')\n",
    "replaceValue(db_cleaned_ENG, 'province', 'MALUKU UTARA', 'north_maluku')"
   ]
  },
  {
   "cell_type": "code",
   "execution_count": 128,
   "metadata": {},
   "outputs": [
    {
     "data": {
      "text/html": [
       "<div>\n",
       "<style scoped>\n",
       "    .dataframe tbody tr th:only-of-type {\n",
       "        vertical-align: middle;\n",
       "    }\n",
       "\n",
       "    .dataframe tbody tr th {\n",
       "        vertical-align: top;\n",
       "    }\n",
       "\n",
       "    .dataframe thead th {\n",
       "        text-align: right;\n",
       "    }\n",
       "</style>\n",
       "<table border=\"1\" class=\"dataframe\">\n",
       "  <thead>\n",
       "    <tr style=\"text-align: right;\">\n",
       "      <th></th>\n",
       "      <th>district_ID</th>\n",
       "      <th>date</th>\n",
       "      <th>disaster_type</th>\n",
       "      <th>location</th>\n",
       "      <th>district_name</th>\n",
       "      <th>province</th>\n",
       "      <th>dead</th>\n",
       "      <th>missing</th>\n",
       "      <th>injured</th>\n",
       "      <th>house_damage</th>\n",
       "      <th>public_facility_damage</th>\n",
       "    </tr>\n",
       "  </thead>\n",
       "  <tbody>\n",
       "    <tr>\n",
       "      <th>0</th>\n",
       "      <td>3202</td>\n",
       "      <td>2021-04-12</td>\n",
       "      <td>cyclone</td>\n",
       "      <td>Kec. Cicurug Ds. Tenjoayu</td>\n",
       "      <td>SUKABUMI</td>\n",
       "      <td>west_java</td>\n",
       "      <td>0.0</td>\n",
       "      <td>0.0</td>\n",
       "      <td>0.0</td>\n",
       "      <td>6</td>\n",
       "      <td>0</td>\n",
       "    </tr>\n",
       "    <tr>\n",
       "      <th>1</th>\n",
       "      <td>3201</td>\n",
       "      <td>2021-04-11</td>\n",
       "      <td>cyclone</td>\n",
       "      <td>Kec. Pamijahan Ds. Ciasihan</td>\n",
       "      <td>BOGOR</td>\n",
       "      <td>west_java</td>\n",
       "      <td>0.0</td>\n",
       "      <td>0.0</td>\n",
       "      <td>0.0</td>\n",
       "      <td>2</td>\n",
       "      <td>0</td>\n",
       "    </tr>\n",
       "    <tr>\n",
       "      <th>2</th>\n",
       "      <td>3201</td>\n",
       "      <td>2021-04-11</td>\n",
       "      <td>cyclone</td>\n",
       "      <td>Kec. Tamansari Ds. Sukajaya</td>\n",
       "      <td>BOGOR</td>\n",
       "      <td>west_java</td>\n",
       "      <td>0.0</td>\n",
       "      <td>0.0</td>\n",
       "      <td>0.0</td>\n",
       "      <td>0</td>\n",
       "      <td>1</td>\n",
       "    </tr>\n",
       "    <tr>\n",
       "      <th>3</th>\n",
       "      <td>3211</td>\n",
       "      <td>2021-04-11</td>\n",
       "      <td>landslide</td>\n",
       "      <td>Kec. Wado Ds. Cimungkal</td>\n",
       "      <td>SUMEDANG</td>\n",
       "      <td>west_java</td>\n",
       "      <td>0.0</td>\n",
       "      <td>0.0</td>\n",
       "      <td>0.0</td>\n",
       "      <td>0</td>\n",
       "      <td>0</td>\n",
       "    </tr>\n",
       "    <tr>\n",
       "      <th>4</th>\n",
       "      <td>3201</td>\n",
       "      <td>2021-04-11</td>\n",
       "      <td>cyclone</td>\n",
       "      <td>Kec. Ciomas Ds. Mekar Jaya</td>\n",
       "      <td>BOGOR</td>\n",
       "      <td>west_java</td>\n",
       "      <td>0.0</td>\n",
       "      <td>0.0</td>\n",
       "      <td>0.0</td>\n",
       "      <td>2</td>\n",
       "      <td>0</td>\n",
       "    </tr>\n",
       "    <tr>\n",
       "      <th>...</th>\n",
       "      <td>...</td>\n",
       "      <td>...</td>\n",
       "      <td>...</td>\n",
       "      <td>...</td>\n",
       "      <td>...</td>\n",
       "      <td>...</td>\n",
       "      <td>...</td>\n",
       "      <td>...</td>\n",
       "      <td>...</td>\n",
       "      <td>...</td>\n",
       "      <td>...</td>\n",
       "    </tr>\n",
       "    <tr>\n",
       "      <th>2248</th>\n",
       "      <td>3312</td>\n",
       "      <td>2008-01-01</td>\n",
       "      <td>flood</td>\n",
       "      <td>NaN</td>\n",
       "      <td>WONOGIRI</td>\n",
       "      <td>central_java</td>\n",
       "      <td>0.0</td>\n",
       "      <td>0.0</td>\n",
       "      <td>0.0</td>\n",
       "      <td>0</td>\n",
       "      <td>0</td>\n",
       "    </tr>\n",
       "    <tr>\n",
       "      <th>2249</th>\n",
       "      <td>3316</td>\n",
       "      <td>2008-01-01</td>\n",
       "      <td>flood</td>\n",
       "      <td>NaN</td>\n",
       "      <td>BLORA</td>\n",
       "      <td>central_java</td>\n",
       "      <td>0.0</td>\n",
       "      <td>0.0</td>\n",
       "      <td>0.0</td>\n",
       "      <td>0</td>\n",
       "      <td>0</td>\n",
       "    </tr>\n",
       "    <tr>\n",
       "      <th>2250</th>\n",
       "      <td>6302</td>\n",
       "      <td>2008-01-01</td>\n",
       "      <td>flood</td>\n",
       "      <td>NaN</td>\n",
       "      <td>KOTABARU</td>\n",
       "      <td>south_kalimantan</td>\n",
       "      <td>0.0</td>\n",
       "      <td>0.0</td>\n",
       "      <td>0.0</td>\n",
       "      <td>0</td>\n",
       "      <td>0</td>\n",
       "    </tr>\n",
       "    <tr>\n",
       "      <th>2251</th>\n",
       "      <td>1111</td>\n",
       "      <td>2008-01-01</td>\n",
       "      <td>flood</td>\n",
       "      <td>NaN</td>\n",
       "      <td>ACEH UTARA</td>\n",
       "      <td>ACEH</td>\n",
       "      <td>0.0</td>\n",
       "      <td>0.0</td>\n",
       "      <td>0.0</td>\n",
       "      <td>0</td>\n",
       "      <td>0</td>\n",
       "    </tr>\n",
       "    <tr>\n",
       "      <th>2252</th>\n",
       "      <td>3503</td>\n",
       "      <td>2008-01-01</td>\n",
       "      <td>flood</td>\n",
       "      <td>NaN</td>\n",
       "      <td>TRENGGALEK</td>\n",
       "      <td>eastj_ava</td>\n",
       "      <td>0.0</td>\n",
       "      <td>0.0</td>\n",
       "      <td>0.0</td>\n",
       "      <td>0</td>\n",
       "      <td>0</td>\n",
       "    </tr>\n",
       "  </tbody>\n",
       "</table>\n",
       "<p>29850 rows × 11 columns</p>\n",
       "</div>"
      ],
      "text/plain": [
       "      district_ID        date disaster_type                     location  \\\n",
       "0            3202  2021-04-12       cyclone    Kec. Cicurug Ds. Tenjoayu   \n",
       "1            3201  2021-04-11       cyclone  Kec. Pamijahan Ds. Ciasihan   \n",
       "2            3201  2021-04-11       cyclone  Kec. Tamansari Ds. Sukajaya   \n",
       "3            3211  2021-04-11     landslide      Kec. Wado Ds. Cimungkal   \n",
       "4            3201  2021-04-11       cyclone   Kec. Ciomas Ds. Mekar Jaya   \n",
       "...           ...         ...           ...                          ...   \n",
       "2248         3312  2008-01-01         flood                          NaN   \n",
       "2249         3316  2008-01-01         flood                          NaN   \n",
       "2250         6302  2008-01-01         flood                          NaN   \n",
       "2251         1111  2008-01-01         flood                          NaN   \n",
       "2252         3503  2008-01-01         flood                          NaN   \n",
       "\n",
       "     district_name          province  dead  missing  injured  house_damage  \\\n",
       "0         SUKABUMI         west_java   0.0      0.0      0.0             6   \n",
       "1            BOGOR         west_java   0.0      0.0      0.0             2   \n",
       "2            BOGOR         west_java   0.0      0.0      0.0             0   \n",
       "3         SUMEDANG         west_java   0.0      0.0      0.0             0   \n",
       "4            BOGOR         west_java   0.0      0.0      0.0             2   \n",
       "...            ...               ...   ...      ...      ...           ...   \n",
       "2248      WONOGIRI      central_java   0.0      0.0      0.0             0   \n",
       "2249         BLORA      central_java   0.0      0.0      0.0             0   \n",
       "2250      KOTABARU  south_kalimantan   0.0      0.0      0.0             0   \n",
       "2251    ACEH UTARA              ACEH   0.0      0.0      0.0             0   \n",
       "2252    TRENGGALEK         eastj_ava   0.0      0.0      0.0             0   \n",
       "\n",
       "      public_facility_damage  \n",
       "0                          0  \n",
       "1                          0  \n",
       "2                          1  \n",
       "3                          0  \n",
       "4                          0  \n",
       "...                      ...  \n",
       "2248                       0  \n",
       "2249                       0  \n",
       "2250                       0  \n",
       "2251                       0  \n",
       "2252                       0  \n",
       "\n",
       "[29850 rows x 11 columns]"
      ]
     },
     "execution_count": 128,
     "metadata": {},
     "output_type": "execute_result"
    }
   ],
   "source": [
    "db_cleaned_ENG"
   ]
  },
  {
   "cell_type": "code",
   "execution_count": 129,
   "metadata": {},
   "outputs": [
    {
     "data": {
      "text/plain": [
       "0         sukabumi\n",
       "1            bogor\n",
       "2            bogor\n",
       "3         sumedang\n",
       "4            bogor\n",
       "           ...    \n",
       "2248      wonogiri\n",
       "2249         blora\n",
       "2250      kotabaru\n",
       "2251    aceh utara\n",
       "2252    trenggalek\n",
       "Name: district_name, Length: 29850, dtype: object"
      ]
     },
     "execution_count": 129,
     "metadata": {},
     "output_type": "execute_result"
    }
   ],
   "source": [
    "db_cleaned_ENG['district_name'].str.lower()\n"
   ]
  },
  {
   "cell_type": "code",
   "execution_count": 131,
   "metadata": {},
   "outputs": [],
   "source": [
    "# Filling NaN values in 'location' with the 'district_name' in lower case format\n",
    "db_cleaned_ENG.location = db_cleaned_ENG.location.fillna(db_cleaned_ENG['district_name'].str.lower())"
   ]
  },
  {
   "cell_type": "code",
   "execution_count": 133,
   "metadata": {},
   "outputs": [
    {
     "data": {
      "text/html": [
       "<div>\n",
       "<style scoped>\n",
       "    .dataframe tbody tr th:only-of-type {\n",
       "        vertical-align: middle;\n",
       "    }\n",
       "\n",
       "    .dataframe tbody tr th {\n",
       "        vertical-align: top;\n",
       "    }\n",
       "\n",
       "    .dataframe thead th {\n",
       "        text-align: right;\n",
       "    }\n",
       "</style>\n",
       "<table border=\"1\" class=\"dataframe\">\n",
       "  <thead>\n",
       "    <tr style=\"text-align: right;\">\n",
       "      <th></th>\n",
       "      <th>district_ID</th>\n",
       "      <th>date</th>\n",
       "      <th>disaster_type</th>\n",
       "      <th>location</th>\n",
       "      <th>district_name</th>\n",
       "      <th>province</th>\n",
       "      <th>dead</th>\n",
       "      <th>missing</th>\n",
       "      <th>injured</th>\n",
       "      <th>house_damage</th>\n",
       "      <th>public_facility_damage</th>\n",
       "    </tr>\n",
       "  </thead>\n",
       "  <tbody>\n",
       "    <tr>\n",
       "      <th>2248</th>\n",
       "      <td>3312</td>\n",
       "      <td>2008-01-01</td>\n",
       "      <td>flood</td>\n",
       "      <td>wonogiri</td>\n",
       "      <td>WONOGIRI</td>\n",
       "      <td>central_java</td>\n",
       "      <td>0.0</td>\n",
       "      <td>0.0</td>\n",
       "      <td>0.0</td>\n",
       "      <td>0</td>\n",
       "      <td>0</td>\n",
       "    </tr>\n",
       "    <tr>\n",
       "      <th>2249</th>\n",
       "      <td>3316</td>\n",
       "      <td>2008-01-01</td>\n",
       "      <td>flood</td>\n",
       "      <td>blora</td>\n",
       "      <td>BLORA</td>\n",
       "      <td>central_java</td>\n",
       "      <td>0.0</td>\n",
       "      <td>0.0</td>\n",
       "      <td>0.0</td>\n",
       "      <td>0</td>\n",
       "      <td>0</td>\n",
       "    </tr>\n",
       "    <tr>\n",
       "      <th>2250</th>\n",
       "      <td>6302</td>\n",
       "      <td>2008-01-01</td>\n",
       "      <td>flood</td>\n",
       "      <td>kotabaru</td>\n",
       "      <td>KOTABARU</td>\n",
       "      <td>south_kalimantan</td>\n",
       "      <td>0.0</td>\n",
       "      <td>0.0</td>\n",
       "      <td>0.0</td>\n",
       "      <td>0</td>\n",
       "      <td>0</td>\n",
       "    </tr>\n",
       "    <tr>\n",
       "      <th>2251</th>\n",
       "      <td>1111</td>\n",
       "      <td>2008-01-01</td>\n",
       "      <td>flood</td>\n",
       "      <td>aceh utara</td>\n",
       "      <td>ACEH UTARA</td>\n",
       "      <td>aceh</td>\n",
       "      <td>0.0</td>\n",
       "      <td>0.0</td>\n",
       "      <td>0.0</td>\n",
       "      <td>0</td>\n",
       "      <td>0</td>\n",
       "    </tr>\n",
       "    <tr>\n",
       "      <th>2252</th>\n",
       "      <td>3503</td>\n",
       "      <td>2008-01-01</td>\n",
       "      <td>flood</td>\n",
       "      <td>trenggalek</td>\n",
       "      <td>TRENGGALEK</td>\n",
       "      <td>eastj_ava</td>\n",
       "      <td>0.0</td>\n",
       "      <td>0.0</td>\n",
       "      <td>0.0</td>\n",
       "      <td>0</td>\n",
       "      <td>0</td>\n",
       "    </tr>\n",
       "  </tbody>\n",
       "</table>\n",
       "</div>"
      ],
      "text/plain": [
       "      district_ID        date disaster_type    location district_name  \\\n",
       "2248         3312  2008-01-01         flood    wonogiri      WONOGIRI   \n",
       "2249         3316  2008-01-01         flood       blora         BLORA   \n",
       "2250         6302  2008-01-01         flood    kotabaru      KOTABARU   \n",
       "2251         1111  2008-01-01         flood  aceh utara    ACEH UTARA   \n",
       "2252         3503  2008-01-01         flood  trenggalek    TRENGGALEK   \n",
       "\n",
       "              province  dead  missing  injured  house_damage  \\\n",
       "2248      central_java   0.0      0.0      0.0             0   \n",
       "2249      central_java   0.0      0.0      0.0             0   \n",
       "2250  south_kalimantan   0.0      0.0      0.0             0   \n",
       "2251              aceh   0.0      0.0      0.0             0   \n",
       "2252         eastj_ava   0.0      0.0      0.0             0   \n",
       "\n",
       "      public_facility_damage  \n",
       "2248                       0  \n",
       "2249                       0  \n",
       "2250                       0  \n",
       "2251                       0  \n",
       "2252                       0  "
      ]
     },
     "execution_count": 133,
     "metadata": {},
     "output_type": "execute_result"
    }
   ],
   "source": [
    "db_cleaned_ENG['province'] = db_cleaned_ENG.province.astype(str).str.lower()\n",
    "db_cleaned_ENG.tail(5)"
   ]
  },
  {
   "cell_type": "code",
   "execution_count": 136,
   "metadata": {},
   "outputs": [],
   "source": [
    "replaceValue(db_cleaned_ENG, 'province', 'eastj_ava', 'east_java')"
   ]
  },
  {
   "cell_type": "code",
   "execution_count": 137,
   "metadata": {},
   "outputs": [],
   "source": [
    "db_cleaned_ENG.to_csv(r'2021/db_cleaned_ENG.csv')"
   ]
  },
  {
   "cell_type": "code",
   "execution_count": 135,
   "metadata": {},
   "outputs": [
    {
     "data": {
      "text/plain": [
       "(29850, 11)"
      ]
     },
     "execution_count": 135,
     "metadata": {},
     "output_type": "execute_result"
    }
   ],
   "source": [
    "db_cleaned_ENG.shape"
   ]
  },
  {
   "cell_type": "markdown",
   "metadata": {},
   "source": [
    "## Near Future Plans:\n",
    "\n",
    "- Adding longitude and latitude columns\n",
    "- separating the data based on the type of disasters"
   ]
  },
  {
   "cell_type": "code",
   "execution_count": 139,
   "metadata": {},
   "outputs": [
    {
     "data": {
      "text/plain": [
       "array(['cyclone', 'landslide', 'flood', 'earthquake',\n",
       "       'high-tide/abrasion', 'forest and land fire', 'drought',\n",
       "       'ground movement', 'volcanic eruption', 'volcanic activities',\n",
       "       'tsunami', 'earthquake+tsunami'], dtype=object)"
      ]
     },
     "execution_count": 139,
     "metadata": {},
     "output_type": "execute_result"
    }
   ],
   "source": [
    "pd.unique(db_cleaned_ENG['disaster_type'])\n"
   ]
  },
  {
   "cell_type": "code",
   "execution_count": null,
   "metadata": {},
   "outputs": [],
   "source": []
  }
 ],
 "metadata": {
  "kernelspec": {
   "display_name": "Python 3",
   "language": "python",
   "name": "python3"
  },
  "language_info": {
   "codemirror_mode": {
    "name": "ipython",
    "version": 3
   },
   "file_extension": ".py",
   "mimetype": "text/x-python",
   "name": "python",
   "nbconvert_exporter": "python",
   "pygments_lexer": "ipython3",
   "version": "3.8.2"
  }
 },
 "nbformat": 4,
 "nbformat_minor": 4
}
