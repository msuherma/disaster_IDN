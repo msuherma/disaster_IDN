{
 "cells": [
  {
   "cell_type": "markdown",
   "id": "73f620d8-80d5-47db-a206-2d10c3da54ba",
   "metadata": {},
   "source": [
    "# Earthquake Data of Indonesia\n",
    "\n",
    "These data processed here are obtained from US Government ([usgs](https://www.usgs.gov/)).\n",
    "\n",
    "These data were downloaded on 4/13/2021. Therefore, Shall I need to add more updated data, I need to retrieve the data manually starting from the date.\n",
    "\n",
    "\n",
    "The data retrieving is limited by numbers, i.e. 20,000 inquiry at one time. Therefore, I needed to downloaded several different files.\n",
    "\n",
    "Plans ahead are:\n",
    " - reading all data\n",
    " - concatinate vertically to create full dataframe\n",
    " - cleaning possible duplicated data, since the download method is separated."
   ]
  },
  {
   "cell_type": "code",
   "execution_count": 16,
   "id": "db35a6c6-8cba-41fa-9d74-1a4c756b058b",
   "metadata": {},
   "outputs": [],
   "source": [
    "import pandas as pd\n",
    "import glob"
   ]
  },
  {
   "cell_type": "code",
   "execution_count": 25,
   "id": "c421c564-09cd-4225-855f-3434d854e825",
   "metadata": {},
   "outputs": [],
   "source": [
    "# get data location and names\n",
    "# for MacOS\n",
    "data_folder = r'/Users/cakherman/OneDrive - purdue.edu/github/github-msuherma-mac/disaster_IDN/earthquake_IDN_usgs.gov'\n",
    "\n",
    "#for Windows\n",
    "# data_folder =\n",
    "\n",
    "######\n",
    "#getting all files, in csv format\n",
    "fileNames = glob.glob(data_folder + '/*.csv')"
   ]
  },
  {
   "cell_type": "code",
   "execution_count": 29,
   "id": "c506aebb-93fc-47cf-b8c8-3fcf39cf56e7",
   "metadata": {},
   "outputs": [],
   "source": [
    "# Opening all data in a loop\n",
    "dfs = []\n",
    "for fileName in fileNames:\n",
    "    dfs.append(pd.read_csv(fileName, delimiter=','))"
   ]
  },
  {
   "cell_type": "code",
   "execution_count": 31,
   "id": "267f0a95-61ca-43fc-af32-05c590f97661",
   "metadata": {},
   "outputs": [],
   "source": [
    "# concatenate all data into one Dataframe\n",
    "all_dfs = pd.concat(dfs, ignore_index=True)"
   ]
  },
  {
   "cell_type": "code",
   "execution_count": 33,
   "id": "a0a76a72-eba8-4dff-8fb1-47940633390a",
   "metadata": {},
   "outputs": [
    {
     "data": {
      "text/plain": [
       "(57030, 22)"
      ]
     },
     "execution_count": 33,
     "metadata": {},
     "output_type": "execute_result"
    }
   ],
   "source": [
    "all_dfs.shape"
   ]
  },
  {
   "cell_type": "code",
   "execution_count": 34,
   "id": "818b46fe-a0b6-49df-aaf5-ff0532f376a2",
   "metadata": {},
   "outputs": [],
   "source": [
    "all_dfs_cleaned = all_dfs.drop_duplicates(subset=None, keep=False)"
   ]
  },
  {
   "cell_type": "code",
   "execution_count": 35,
   "id": "21352d18-233b-4305-8baa-f12cbb73c0dc",
   "metadata": {},
   "outputs": [
    {
     "data": {
      "text/plain": [
       "(57030, 22)"
      ]
     },
     "execution_count": 35,
     "metadata": {},
     "output_type": "execute_result"
    }
   ],
   "source": [
    "all_dfs_cleaned.shape"
   ]
  },
  {
   "cell_type": "code",
   "execution_count": 38,
   "id": "7006328a-9c1c-4274-9a37-ab1643509023",
   "metadata": {},
   "outputs": [
    {
     "name": "stdout",
     "output_type": "stream",
     "text": [
      "The duplicate data cleaned from the dataframe is 0\n"
     ]
    }
   ],
   "source": [
    "print (f'The duplicate data cleaned from the dataframe is {all_dfs.shape[0] - all_dfs_cleaned.shape[0]}')"
   ]
  },
  {
   "cell_type": "code",
   "execution_count": 39,
   "id": "87fd7583-307d-45dd-b0b3-1af65e631d04",
   "metadata": {},
   "outputs": [
    {
     "data": {
      "text/html": [
       "<div>\n",
       "<style scoped>\n",
       "    .dataframe tbody tr th:only-of-type {\n",
       "        vertical-align: middle;\n",
       "    }\n",
       "\n",
       "    .dataframe tbody tr th {\n",
       "        vertical-align: top;\n",
       "    }\n",
       "\n",
       "    .dataframe thead th {\n",
       "        text-align: right;\n",
       "    }\n",
       "</style>\n",
       "<table border=\"1\" class=\"dataframe\">\n",
       "  <thead>\n",
       "    <tr style=\"text-align: right;\">\n",
       "      <th></th>\n",
       "      <th>time</th>\n",
       "      <th>latitude</th>\n",
       "      <th>longitude</th>\n",
       "      <th>depth</th>\n",
       "      <th>mag</th>\n",
       "      <th>magType</th>\n",
       "      <th>nst</th>\n",
       "      <th>gap</th>\n",
       "      <th>dmin</th>\n",
       "      <th>rms</th>\n",
       "      <th>...</th>\n",
       "      <th>updated</th>\n",
       "      <th>place</th>\n",
       "      <th>type</th>\n",
       "      <th>horizontalError</th>\n",
       "      <th>depthError</th>\n",
       "      <th>magError</th>\n",
       "      <th>magNst</th>\n",
       "      <th>status</th>\n",
       "      <th>locationSource</th>\n",
       "      <th>magSource</th>\n",
       "    </tr>\n",
       "  </thead>\n",
       "  <tbody>\n",
       "    <tr>\n",
       "      <th>0</th>\n",
       "      <td>2019-12-31T09:50:41.876Z</td>\n",
       "      <td>0.0527</td>\n",
       "      <td>123.5328</td>\n",
       "      <td>129.13</td>\n",
       "      <td>4.3</td>\n",
       "      <td>mb</td>\n",
       "      <td>NaN</td>\n",
       "      <td>99.0</td>\n",
       "      <td>1.327</td>\n",
       "      <td>1.04</td>\n",
       "      <td>...</td>\n",
       "      <td>2020-03-14T22:22:57.040Z</td>\n",
       "      <td>50km SE of Bilungala, Indonesia</td>\n",
       "      <td>earthquake</td>\n",
       "      <td>12.4</td>\n",
       "      <td>10.3</td>\n",
       "      <td>0.111</td>\n",
       "      <td>23.0</td>\n",
       "      <td>reviewed</td>\n",
       "      <td>us</td>\n",
       "      <td>us</td>\n",
       "    </tr>\n",
       "    <tr>\n",
       "      <th>1</th>\n",
       "      <td>2019-12-31T05:18:24.764Z</td>\n",
       "      <td>1.1925</td>\n",
       "      <td>120.7313</td>\n",
       "      <td>34.18</td>\n",
       "      <td>4.8</td>\n",
       "      <td>mb</td>\n",
       "      <td>NaN</td>\n",
       "      <td>88.0</td>\n",
       "      <td>0.095</td>\n",
       "      <td>1.36</td>\n",
       "      <td>...</td>\n",
       "      <td>2020-03-14T22:22:58.040Z</td>\n",
       "      <td>19km NNW of Tolitoli, Indonesia</td>\n",
       "      <td>earthquake</td>\n",
       "      <td>8.4</td>\n",
       "      <td>5.6</td>\n",
       "      <td>0.102</td>\n",
       "      <td>30.0</td>\n",
       "      <td>reviewed</td>\n",
       "      <td>us</td>\n",
       "      <td>us</td>\n",
       "    </tr>\n",
       "    <tr>\n",
       "      <th>2</th>\n",
       "      <td>2019-12-30T16:59:04.000Z</td>\n",
       "      <td>6.6861</td>\n",
       "      <td>94.4018</td>\n",
       "      <td>99.89</td>\n",
       "      <td>4.8</td>\n",
       "      <td>mww</td>\n",
       "      <td>NaN</td>\n",
       "      <td>46.0</td>\n",
       "      <td>2.916</td>\n",
       "      <td>0.99</td>\n",
       "      <td>...</td>\n",
       "      <td>2020-03-14T22:23:09.040Z</td>\n",
       "      <td>134km NW of Sabang, Indonesia</td>\n",
       "      <td>earthquake</td>\n",
       "      <td>7.1</td>\n",
       "      <td>3.1</td>\n",
       "      <td>0.089</td>\n",
       "      <td>12.0</td>\n",
       "      <td>reviewed</td>\n",
       "      <td>us</td>\n",
       "      <td>us</td>\n",
       "    </tr>\n",
       "  </tbody>\n",
       "</table>\n",
       "<p>3 rows × 22 columns</p>\n",
       "</div>"
      ],
      "text/plain": [
       "                       time  latitude  longitude   depth  mag magType  nst  \\\n",
       "0  2019-12-31T09:50:41.876Z    0.0527   123.5328  129.13  4.3      mb  NaN   \n",
       "1  2019-12-31T05:18:24.764Z    1.1925   120.7313   34.18  4.8      mb  NaN   \n",
       "2  2019-12-30T16:59:04.000Z    6.6861    94.4018   99.89  4.8     mww  NaN   \n",
       "\n",
       "    gap   dmin   rms  ...                   updated  \\\n",
       "0  99.0  1.327  1.04  ...  2020-03-14T22:22:57.040Z   \n",
       "1  88.0  0.095  1.36  ...  2020-03-14T22:22:58.040Z   \n",
       "2  46.0  2.916  0.99  ...  2020-03-14T22:23:09.040Z   \n",
       "\n",
       "                             place        type horizontalError depthError  \\\n",
       "0  50km SE of Bilungala, Indonesia  earthquake            12.4       10.3   \n",
       "1  19km NNW of Tolitoli, Indonesia  earthquake             8.4        5.6   \n",
       "2    134km NW of Sabang, Indonesia  earthquake             7.1        3.1   \n",
       "\n",
       "   magError  magNst    status  locationSource magSource  \n",
       "0     0.111    23.0  reviewed              us        us  \n",
       "1     0.102    30.0  reviewed              us        us  \n",
       "2     0.089    12.0  reviewed              us        us  \n",
       "\n",
       "[3 rows x 22 columns]"
      ]
     },
     "execution_count": 39,
     "metadata": {},
     "output_type": "execute_result"
    }
   ],
   "source": [
    "all_dfs_cleaned.head(3)"
   ]
  },
  {
   "cell_type": "code",
   "execution_count": null,
   "id": "0d3aac5c-cfc0-4afc-9b85-cb8b2600d58e",
   "metadata": {},
   "outputs": [],
   "source": []
  }
 ],
 "metadata": {
  "kernelspec": {
   "display_name": "Python 3",
   "language": "python",
   "name": "python3"
  },
  "language_info": {
   "codemirror_mode": {
    "name": "ipython",
    "version": 3
   },
   "file_extension": ".py",
   "mimetype": "text/x-python",
   "name": "python",
   "nbconvert_exporter": "python",
   "pygments_lexer": "ipython3",
   "version": "3.8.8"
  }
 },
 "nbformat": 4,
 "nbformat_minor": 5
}
