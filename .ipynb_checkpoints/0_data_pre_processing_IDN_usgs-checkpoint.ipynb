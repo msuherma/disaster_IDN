{
 "cells": [
  {
   "cell_type": "markdown",
   "id": "73f620d8-80d5-47db-a206-2d10c3da54ba",
   "metadata": {},
   "source": [
    "# Earthquake Data of Indonesia\n",
    "\n",
    "These data processed here are obtained from US Government ([usgs](https://www.usgs.gov/)).\n",
    "\n",
    "These data were downloaded on 4/13/2021. Therefore, Shall I need to add more updated data, I need to retrieve the data manually starting from the date.\n",
    "\n",
    "\n",
    "The data retrieving is limited by numbers, i.e. 20,000 inquiry at one time. Therefore, I needed to downloaded several different files.\n",
    "\n",
    "Plans ahead are:\n",
    " - reading all data\n",
    " - concatinate vertically to create full dataframe\n",
    " - cleaning possible duplicated data, since the download method is separated."
   ]
  },
  {
   "cell_type": "code",
   "execution_count": 16,
   "id": "db35a6c6-8cba-41fa-9d74-1a4c756b058b",
   "metadata": {},
   "outputs": [],
   "source": [
    "import pandas as pd\n",
    "import glob"
   ]
  },
  {
   "cell_type": "code",
   "execution_count": 25,
   "id": "c421c564-09cd-4225-855f-3434d854e825",
   "metadata": {},
   "outputs": [],
   "source": [
    "# get data location and names\n",
    "# for MacOS\n",
    "data_folder = r'/Users/cakherman/OneDrive - purdue.edu/github/github-msuherma-mac/disaster_IDN/earthquake_IDN_usgs.gov'\n",
    "\n",
    "#for Windows\n",
    "# data_folder =\n",
    "\n",
    "######\n",
    "#getting all files, in csv format\n",
    "fileNames = glob.glob(data_folder + '/*.csv')"
   ]
  },
  {
   "cell_type": "code",
   "execution_count": 29,
   "id": "c506aebb-93fc-47cf-b8c8-3fcf39cf56e7",
   "metadata": {},
   "outputs": [],
   "source": [
    "# Opening all data in a loop\n",
    "dfs = []\n",
    "for fileName in fileNames:\n",
    "    dfs.append(pd.read_csv(fileName, delimiter=','))"
   ]
  },
  {
   "cell_type": "code",
   "execution_count": 31,
   "id": "267f0a95-61ca-43fc-af32-05c590f97661",
   "metadata": {},
   "outputs": [],
   "source": [
    "# concatenate all data into one Dataframe\n",
    "all_dfs = pd.concat(dfs, ignore_index=True)"
   ]
  },
  {
   "cell_type": "code",
   "execution_count": 33,
   "id": "a0a76a72-eba8-4dff-8fb1-47940633390a",
   "metadata": {},
   "outputs": [
    {
     "data": {
      "text/plain": [
       "(57030, 22)"
      ]
     },
     "execution_count": 33,
     "metadata": {},
     "output_type": "execute_result"
    }
   ],
   "source": [
    "all_dfs.shape"
   ]
  },
  {
   "cell_type": "code",
   "execution_count": 34,
   "id": "818b46fe-a0b6-49df-aaf5-ff0532f376a2",
   "metadata": {},
   "outputs": [],
   "source": [
    "all_dfs_cleaned = all_dfs.drop_duplicates(subset=None, keep=False)"
   ]
  },
  {
   "cell_type": "code",
   "execution_count": 35,
   "id": "21352d18-233b-4305-8baa-f12cbb73c0dc",
   "metadata": {},
   "outputs": [
    {
     "data": {
      "text/plain": [
       "(57030, 22)"
      ]
     },
     "execution_count": 35,
     "metadata": {},
     "output_type": "execute_result"
    }
   ],
   "source": [
    "all_dfs_cleaned.shape"
   ]
  },
  {
   "cell_type": "code",
   "execution_count": 38,
   "id": "7006328a-9c1c-4274-9a37-ab1643509023",
   "metadata": {},
   "outputs": [
    {
     "name": "stdout",
     "output_type": "stream",
     "text": [
      "The duplicate data cleaned from the dataframe is 0\n"
     ]
    }
   ],
   "source": [
    "print (f'The duplicate data cleaned from the dataframe is {all_dfs.shape[0] - all_dfs_cleaned.shape[0]}')"
   ]
  },
  {
   "cell_type": "code",
   "execution_count": null,
   "id": "87fd7583-307d-45dd-b0b3-1af65e631d04",
   "metadata": {},
   "outputs": [],
   "source": []
  }
 ],
 "metadata": {
  "kernelspec": {
   "display_name": "Python 3",
   "language": "python",
   "name": "python3"
  },
  "language_info": {
   "codemirror_mode": {
    "name": "ipython",
    "version": 3
   },
   "file_extension": ".py",
   "mimetype": "text/x-python",
   "name": "python",
   "nbconvert_exporter": "python",
   "pygments_lexer": "ipython3",
   "version": "3.8.8"
  }
 },
 "nbformat": 4,
 "nbformat_minor": 5
}
